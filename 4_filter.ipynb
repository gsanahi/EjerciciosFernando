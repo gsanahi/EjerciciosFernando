{
  "cells": [
    {
      "cell_type": "markdown",
      "metadata": {
        "id": "view-in-github",
        "colab_type": "text"
      },
      "source": [
        "<a href=\"https://colab.research.google.com/github/gsanahi/EjerciciosFernando/blob/main/4_filter.ipynb\" target=\"_parent\"><img src=\"https://colab.research.google.com/assets/colab-badge.svg\" alt=\"Open In Colab\"/></a>"
      ]
    },
    {
      "cell_type": "markdown",
      "id": "5e84b02c-4371-417e-a484-2eed6679774e",
      "metadata": {
        "id": "5e84b02c-4371-417e-a484-2eed6679774e"
      },
      "source": [
        "# Filter: No puedes pasar\n",
        "\n",
        "![](https://cdn.cultofandroid.com/wp-content/uploads/2012/11/bouncer1.jpg)\n",
        "\n",
        "-------------------"
      ]
    },
    {
      "cell_type": "markdown",
      "id": "83f07d72-6fb7-4538-abd2-dec21d9ca6e7",
      "metadata": {
        "id": "83f07d72-6fb7-4538-abd2-dec21d9ca6e7"
      },
      "source": [
        "Hemos visto ya dos funciones clásicas:\n",
        "\n",
        "* `map`\n",
        "* `reduce`\n",
        "\n",
        "`map` procesa una lista y produce una nueva, con el mismo tamaño, pero con los elementos transformados.\n",
        "\n",
        "`reduce` procesa una lista y combina todos sus elementos en uno nuevo. Tampoco modifica la lista procesada.\n",
        "\n",
        "\n",
        "Nos falta el tercero en discordia: `filter`.\n",
        "\n",
        "\n",
        "## La función `filter`\n",
        "\n",
        "La función `filter` hace lo siguiente:\n",
        "\n",
        "* recibe una lista y un `predicado` (un predicado es una función que devuelve un booleano)\n",
        "* ese `predicado` es un test que cada elemento de la lista debe de pasar\n",
        "* el `predicado` es una función qe recib eun sólo parámetro (el elemento) y devuele un booleano\n",
        "* `filter` devuelve una nueva lista, con **tan sólo los elementos que superaron el test**, es decir, los que devolvieron `True` al predicado.\n",
        "\n",
        "### Ejemplos de predicado\n",
        "\n",
        "`lambda x: x < 10`  Recibe un número y devuelve `True`si el número es menor que 10.\n",
        "\n",
        "`lambda l: len(l) > 3` Recibe una lista y devuelve `True` si su longitud es mayor que 3 "
      ]
    },
    {
      "cell_type": "code",
      "execution_count": null,
      "id": "ea1b0cea-dc11-4adb-b8d5-26bf8f579242",
      "metadata": {
        "id": "ea1b0cea-dc11-4adb-b8d5-26bf8f579242",
        "outputId": "337d948e-d474-4727-8b02-10a56640782f"
      },
      "outputs": [
        {
          "data": {
            "text/plain": [
              "[False, False, True, True, False]"
            ]
          },
          "execution_count": 5,
          "metadata": {},
          "output_type": "execute_result"
        }
      ],
      "source": [
        "def is_high_probability(probability):\n",
        "    \"\"\"\n",
        "    Recibe una probabilidad (número entre 0 y 1.0) y devuelve\n",
        "    True si dicha probabilidad está en el rango correcto y es alta (mayor o igual a 0.8)\n",
        "    \"\"\"\n",
        "    if probability > 1 or probability < 0:\n",
        "        result = False\n",
        "    else:\n",
        "        result = (probability >= 0.8)\n",
        "    return result\n",
        "        \n",
        "\n",
        "# Pruebas\n",
        "[is_high_probability(7), is_high_probability(-4), is_high_probability(0.8), is_high_probability(0.9), is_high_probability(0.7)]\n"
      ]
    },
    {
      "cell_type": "markdown",
      "id": "a23895c1-c9a1-446a-a107-9066fe060cf5",
      "metadata": {
        "id": "a23895c1-c9a1-446a-a107-9066fe060cf5"
      },
      "source": [
        "## Implementación de `filter`\n",
        "\n",
        "Rellena el patrón de la función `filter`. recuerda lo siguiente:\n",
        "\n",
        "* recibe una lista y un predicado\n",
        "* procesa una lista\n",
        "* construye y devuelve otra, con aquellos elementos que supera el test del predicado\n",
        "\n",
        "La llamaremos `my_filter` para no hacer sombra al `filter` propio de Python.\n",
        "\n",
        "```\n",
        "def my_filter(elements, predicate):\n",
        "    \"\"\"\n",
        "    recibe una lista y un predicado. devuelve otra lista con aquellos elementos\n",
        "    que superan el test del predicado\n",
        "    \"\"\"\n",
        "    accum = ???? #qué se va acumulando? cial es el valor inicial?\n",
        "    for element in elements:\n",
        "        ??? # qué se hace en con cada elemento??\n",
        "    return accum\n",
        "```\n",
        "\n",
        "\n",
        "¿Sabrías hacerlo también con un `while`?"
      ]
    },
    {
      "cell_type": "code",
      "source": [
        "def my_filter(elements, predicate):\n",
        "  accumulador = []\n",
        "  for element in elements:\n",
        "    "
      ],
      "metadata": {
        "id": "sIK1qX2WY9Nb"
      },
      "id": "sIK1qX2WY9Nb",
      "execution_count": null,
      "outputs": []
    },
    {
      "cell_type": "markdown",
      "id": "4453433e-38ce-4c88-b47a-2fae64738ce2",
      "metadata": {
        "id": "4453433e-38ce-4c88-b47a-2fae64738ce2"
      },
      "source": [
        "---------------------------------"
      ]
    },
    {
      "cell_type": "markdown",
      "id": "a9d7b091-3885-4827-b74e-a37bbbbff83e",
      "metadata": {
        "id": "a9d7b091-3885-4827-b74e-a37bbbbff83e"
      },
      "source": [
        "## Ejercicios\n",
        "\n"
      ]
    },
    {
      "cell_type": "markdown",
      "id": "d0d3ef44-360d-4b44-b0b1-fa360566bb04",
      "metadata": {
        "id": "d0d3ef44-360d-4b44-b0b1-fa360566bb04"
      },
      "source": [
        "Usando tu `my_filter`, crea, apartir de `numbers`,  una nueva lista con sólo los números pares."
      ]
    },
    {
      "cell_type": "code",
      "execution_count": null,
      "id": "cbe54015-9f8b-4c42-a8dc-36ad009f8a76",
      "metadata": {
        "id": "cbe54015-9f8b-4c42-a8dc-36ad009f8a76"
      },
      "outputs": [],
      "source": [
        "# lista inicial\n",
        "numbers = [1,2,3,4,5,6,7,8,9,11, 12,14,19,12]"
      ]
    },
    {
      "cell_type": "markdown",
      "id": "c661d214-f541-484a-8cd4-fa93b12bb317",
      "metadata": {
        "id": "c661d214-f541-484a-8cd4-fa93b12bb317"
      },
      "source": [
        "¿Cómo calcularías el total de números pares de la lista original? Usa `my_filter` y tu `reduce`.\n",
        "\n",
        "¿Y el total de números *impares*?\n",
        "\n",
        "-----------"
      ]
    },
    {
      "cell_type": "markdown",
      "id": "53553298-bdec-4aa4-a898-aff96644b46a",
      "metadata": {
        "id": "53553298-bdec-4aa4-a898-aff96644b46a"
      },
      "source": [
        "Te contrataron en un banco como Data Analyst y tu primer trabajo es recibir una lista (larguísima) que contiene la probabilidad, calculada mediante un modelo de ML, de que un cliente deje de pagar su hipoteca.\n",
        "\n",
        "Tu trabajo es quitarle esos muertos al banco, eliminando de la lista los que tengan una probabilidad inferior a un valor que te pasan."
      ]
    },
    {
      "cell_type": "code",
      "execution_count": null,
      "id": "88571ab8-7904-44de-a9fc-eb7cea7a7a4d",
      "metadata": {
        "id": "88571ab8-7904-44de-a9fc-eb7cea7a7a4d"
      },
      "outputs": [],
      "source": [
        "import random\n",
        "\n",
        "# lista de probabilidades (usando \"list comprehensions\")\n",
        "probs = [random.random() for i in range(100) ]"
      ]
    },
    {
      "cell_type": "code",
      "execution_count": null,
      "id": "0463a399-842f-4739-b6cc-4eabe5e73128",
      "metadata": {
        "id": "0463a399-842f-4739-b6cc-4eabe5e73128",
        "outputId": "7ba2a822-d1e2-42a1-a04b-b5280c83f119"
      },
      "outputs": [
        {
          "ename": "SyntaxError",
          "evalue": "invalid syntax (4109889054.py, line 7)",
          "output_type": "error",
          "traceback": [
            "\u001b[0;36m  Input \u001b[0;32mIn [17]\u001b[0;36m\u001b[0m\n\u001b[0;31m    return my_filter(??????) # rellena esto\u001b[0m\n\u001b[0m                     ^\u001b[0m\n\u001b[0;31mSyntaxError\u001b[0m\u001b[0;31m:\u001b[0m invalid syntax\n"
          ]
        }
      ],
      "source": [
        "def remove_bad_customers(probabilities, threshold):\n",
        "    \"\"\"\n",
        "    Recibe una lista de probabilidades de pago y un límite (threshold)\n",
        "    Debe devolver una nueva lista con aquellas probabilidades que son iguales\n",
        "    o mayores al threshold\n",
        "    \"\"\"\n",
        "    return my_filter(??????) # rellena esto\n",
        "\n",
        "    "
      ]
    },
    {
      "cell_type": "markdown",
      "id": "e525ec83-c406-4292-a656-3eedfa6b903b",
      "metadata": {
        "id": "e525ec83-c406-4292-a656-3eedfa6b903b"
      },
      "source": [
        "¡OJO! El predicado de `my_filter` sólo puede recibir un parámetro (el elemento de la lista que está procesando). NO le puedes pasar por parámetro el límite (threshold). ¿Es eso un problema? ¿Por qué no?\n",
        "\n",
        "---------------"
      ]
    },
    {
      "cell_type": "markdown",
      "id": "6706bd88-e450-45c6-b657-664857574c9c",
      "metadata": {
        "id": "6706bd88-e450-45c6-b657-664857574c9c"
      },
      "source": [
        "Trabajas en un clínica de estética (en el departamento de IT, of course) y lo priemro que se le hace a los clientes es calcular su [bmi](https://www.cdc.gov/healthyweight/assessing/bmi/index.html).\n",
        "\n",
        "![](https://calculatorsworld.com/health/wp-content/uploads/sites/4/bmi-chart-metric.png)\n",
        "\n",
        "Tu trabajo es recibir una lista con dichos valores y crear una nueva con aquellos que están **por debajo de 15** o **por encima de 40**. En esos casos se supone que puede haberse producido un error,y se tiene que volver a calcular.\n",
        "\n",
        "Crea una función que devuelve una lista con esos valores extremos. "
      ]
    },
    {
      "cell_type": "code",
      "execution_count": null,
      "id": "defb255a-f545-47fb-824c-3f8455067282",
      "metadata": {
        "id": "defb255a-f545-47fb-824c-3f8455067282"
      },
      "outputs": [],
      "source": [
        "def extreme_bmis(list_of_bmis):\n",
        "    \"\"\"\n",
        "    Recibe una lista y devuelve otra lista con los valores de bmi que se consideran\n",
        "    sospechosos de ser un error por extremos (menor que 15 o mayor que 40)\n",
        "    \"\"\"\n",
        "    pass # escribe tú el código"
      ]
    },
    {
      "cell_type": "markdown",
      "id": "53c0a29a-d9fc-4111-8bd1-34ba2f65f515",
      "metadata": {
        "id": "53c0a29a-d9fc-4111-8bd1-34ba2f65f515"
      },
      "source": [
        "¡OJO! Hay dos maneras de hacerlo: con 1 sólo filtro o con dos filtros seguidos. Intenta hacerlo de las dos formas.\n",
        "\n",
        "----------------"
      ]
    },
    {
      "cell_type": "markdown",
      "id": "4f842b01-6ba9-4639-9e52-109dacd1e657",
      "metadata": {
        "id": "4f842b01-6ba9-4639-9e52-109dacd1e657"
      },
      "source": [
        "Tienes una lista de \"cosas\", como por ejemplo la siguiente:\n",
        "\n",
        "```\n",
        "[34, 'hola', False, [3,4,5], [None, None], [], ['grijandermoney'], 'EUR50']\n",
        "```\n",
        "\n",
        "Tu trabajo es filtrar todo lo que **no sea** una lista.\n",
        "\n",
        "Para ello, primero averigua qué hace la función [type](https://www.w3schools.com/python/ref_func_type.asp) de Python y asegúrate de entender las siguientes expresiones:"
      ]
    },
    {
      "cell_type": "code",
      "execution_count": null,
      "id": "94e1bbce-8320-4948-939d-06ab383b2a90",
      "metadata": {
        "id": "94e1bbce-8320-4948-939d-06ab383b2a90",
        "outputId": "bea50403-e29b-444f-df4a-cbca588027dc"
      },
      "outputs": [
        {
          "data": {
            "text/plain": [
              "int"
            ]
          },
          "execution_count": 21,
          "metadata": {},
          "output_type": "execute_result"
        }
      ],
      "source": [
        "type(34)"
      ]
    },
    {
      "cell_type": "code",
      "execution_count": null,
      "id": "19c3fe01-bd01-42b2-84b7-a3a87251f049",
      "metadata": {
        "id": "19c3fe01-bd01-42b2-84b7-a3a87251f049",
        "outputId": "060ce335-1422-40ed-a4f2-bc92d9507bfd"
      },
      "outputs": [
        {
          "data": {
            "text/plain": [
              "list"
            ]
          },
          "execution_count": 22,
          "metadata": {},
          "output_type": "execute_result"
        }
      ],
      "source": [
        "type([3,4])"
      ]
    },
    {
      "cell_type": "code",
      "execution_count": null,
      "id": "925097cb-37eb-4e53-80a6-e39c151a5608",
      "metadata": {
        "id": "925097cb-37eb-4e53-80a6-e39c151a5608",
        "outputId": "f401f2b5-064e-4140-bedb-ee810ebf9e05"
      },
      "outputs": [
        {
          "data": {
            "text/plain": [
              "list"
            ]
          },
          "execution_count": 23,
          "metadata": {},
          "output_type": "execute_result"
        }
      ],
      "source": [
        "type([])"
      ]
    },
    {
      "cell_type": "code",
      "execution_count": null,
      "id": "d0959d78-c061-4dcb-88a5-4df321d22a8f",
      "metadata": {
        "id": "d0959d78-c061-4dcb-88a5-4df321d22a8f",
        "outputId": "40dd7ea1-71de-423f-8a47-9409bd12d524"
      },
      "outputs": [
        {
          "data": {
            "text/plain": [
              "False"
            ]
          },
          "execution_count": 24,
          "metadata": {},
          "output_type": "execute_result"
        }
      ],
      "source": [
        "type([]) == int"
      ]
    },
    {
      "cell_type": "code",
      "execution_count": null,
      "id": "8efdb903-4db9-465c-9a43-554a6592ec88",
      "metadata": {
        "id": "8efdb903-4db9-465c-9a43-554a6592ec88",
        "outputId": "fbafb683-cca0-4ffa-e262-419f5b760abd"
      },
      "outputs": [
        {
          "data": {
            "text/plain": [
              "True"
            ]
          },
          "execution_count": 25,
          "metadata": {},
          "output_type": "execute_result"
        }
      ],
      "source": [
        "type([]) == list"
      ]
    },
    {
      "cell_type": "markdown",
      "id": "92fa421b-836c-4c56-aec0-2448af7f6c4e",
      "metadata": {
        "id": "92fa421b-836c-4c56-aec0-2448af7f6c4e"
      },
      "source": [
        "Ahora, crea la función `lists_only` que recibe una lista de \"cosas\" y devuelve una nueva lista con todo aquello que no era una lista, eliminado.\n",
        "\n",
        "Es decir:\n",
        "\n",
        "```\n",
        "lists_only([34, 'hola', False, [3,4,5], [None, None], [], ['grijandermoney'], 'EUR50']) \n",
        "```\n",
        "\n",
        "devolverá\n",
        "\n",
        "```\n",
        "[ [3,4,5], [None, None], [], ['grijandermoney']]\n",
        "```\n",
        "\n",
        "---------"
      ]
    },
    {
      "cell_type": "markdown",
      "id": "a18f025c-2d98-4ec1-96e8-a229604bcd9e",
      "metadata": {
        "id": "a18f025c-2d98-4ec1-96e8-a229604bcd9e"
      },
      "source": [
        "Usando la función `lists_only`, crea una función `non_empty_lists` que devuelve una lista con aquellos elementos que són listas y que **además NO están vacías**.\n",
        "\n",
        "Para implementar `non_empty_lists` debes de llamar a `lists_only`.\n",
        "\n",
        "```\n",
        "non_empty_lists([34, 'hola', False, [3,4,5], [None, None], [], ['grijandermoney'], 'EUR50'])\n",
        "```\n",
        "\n",
        "devolverá\n",
        "\n",
        "```\n",
        "[ [3,4,5], [None, None],  ['grijandermoney'], ]\n",
        "```"
      ]
    },
    {
      "cell_type": "code",
      "execution_count": null,
      "id": "47072ece-4ca4-4830-94c3-d5414750b2b4",
      "metadata": {
        "id": "47072ece-4ca4-4830-94c3-d5414750b2b4"
      },
      "outputs": [],
      "source": []
    }
  ],
  "metadata": {
    "kernelspec": {
      "display_name": "Python 3 (ipykernel)",
      "language": "python",
      "name": "python3"
    },
    "language_info": {
      "codemirror_mode": {
        "name": "ipython",
        "version": 3
      },
      "file_extension": ".py",
      "mimetype": "text/x-python",
      "name": "python",
      "nbconvert_exporter": "python",
      "pygments_lexer": "ipython3",
      "version": "3.10.7"
    },
    "colab": {
      "provenance": [],
      "include_colab_link": true
    }
  },
  "nbformat": 4,
  "nbformat_minor": 5
}