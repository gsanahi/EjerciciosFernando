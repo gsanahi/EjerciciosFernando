{
  "cells": [
    {
      "cell_type": "markdown",
      "metadata": {
        "id": "view-in-github",
        "colab_type": "text"
      },
      "source": [
        "<a href=\"https://colab.research.google.com/github/gsanahi/EjerciciosFernando/blob/main/3_funciones_mapeadoras.ipynb\" target=\"_parent\"><img src=\"https://colab.research.google.com/assets/colab-badge.svg\" alt=\"Open In Colab\"/></a>"
      ]
    },
    {
      "cell_type": "markdown",
      "id": "5395c568-edd8-491f-aa5a-97504733ab0f",
      "metadata": {
        "id": "5395c568-edd8-491f-aa5a-97504733ab0f"
      },
      "source": [
        "# Funciones Mapeadoras\n",
        "\n",
        "Entre las funciones sobre listas, hemos visto que hay un grupo muy grande que se pueden resumir mediante la función de alto nivel `reduce`.\n",
        "\n",
        "`reduce` procesa una lista y va reduciendo sus componentes a uno solo. Un caso particular, sería calcular el total de una lista de números.\n",
        "\n",
        "Hay otro gran grupo de funciones sobre listas que hacen lo siguiente:\n",
        "\n",
        "* reciben una lista y devuelven otra lista de igual longitud\n",
        "* procesan la lista original y transforman cada elemento original en uno nuevo\n",
        "* la lista que se devuelve, contiene los nuevos elementos, transformados de alguna forma.\n",
        "\n",
        "\n",
        "[👻, 👻, 👻, 👻, 👻] ----------> [💩, 💩, 💩, 💩, 💩]\n",
        "\n",
        "Las dos listas tienen la misma longitud, pero la nueva tiene los elementos transformados de alguna manera"
      ]
    },
    {
      "cell_type": "markdown",
      "id": "db8bcb56-454e-4ec8-8257-2ee031d11e4c",
      "metadata": {
        "id": "db8bcb56-454e-4ec8-8257-2ee031d11e4c"
      },
      "source": [
        "## Ejemplos\n",
        "\n",
        "1. Crea una función que recibe una lista de precios en dólares, y devuelve esos mismos precios en otra divisa. Para ello, también recibe una tasa de conversión\n",
        "1. Función que recibe la misma lista de precios en dólares, y sólo convierte a otra divisa los que sean mayores que 10.\n",
        "1. Crea una función que recibe una lista de números con precios en euros y devuelve una lista de cadenas. Cada precio debe de ser convertido en una cadena con el estandar ISO para €: 458 -> 'EUR 45'.\n",
        "1. ¿Cómo obtendrías el total de los precios de la primera función?\n",
        "1. ¿Cómo obtendrias una sola cadena con los precios de la tercera, en formato CSV?"
      ]
    },
    {
      "cell_type": "code",
      "execution_count": null,
      "id": "13466dbf-c95d-47dd-a3d7-4cc4aaacb74e",
      "metadata": {
        "id": "13466dbf-c95d-47dd-a3d7-4cc4aaacb74e",
        "outputId": "04292116-8613-48c1-87b9-42da90f97e96"
      },
      "outputs": [
        {
          "name": "stdout",
          "output_type": "stream",
          "text": [
            "[1.1, 2.2, 3.3000000000000003, 4.4]\n",
            "[1, 85.0, 10, 30.0]\n",
            "['EUR 34', 'EUR 54', 'EUR 0.55']\n"
          ]
        }
      ],
      "source": [
        "#1\n",
        "\n",
        "def convert(prices, rate):\n",
        "    \"\"\"\n",
        "    Crea una función que recibe una lista de precios en dólares, y devuelve esos mismos \n",
        "    precios en otra divisa. Para ello, también recibe una tasa de conversión\n",
        "    \"\"\"\n",
        "    new_prices = []\n",
        "    for price in prices:\n",
        "        new_prices.append(price * rate)\n",
        "    return new_prices\n",
        "\n",
        "print(convert([1,2,3,4], 1.1))\n",
        "\n",
        "# 2\n",
        "def convert_if_big(prices, rate):\n",
        "    \"\"\"\n",
        "    Función que recibe la misma lista de precios en dólares, y \n",
        "    sólo convierte a otra divisa los que sean mayores que 10.\n",
        "    \"\"\"\n",
        "    new_prices = []\n",
        "    for price in prices:\n",
        "        new_price = price\n",
        "        if price > 10:\n",
        "            new_price = price * rate\n",
        "        new_prices.append(new_price)\n",
        "    return new_prices\n",
        "            \n",
        "print(convert_if_big([1, 34, 10, 12], 2.5))\n",
        "\n",
        "#3\n",
        "\n",
        "def to_euro_string(prices):\n",
        "    \"\"\"\n",
        "    Crea una función que recibe una lista de números con precios en euros y devuelve una \n",
        "    lista de cadenas. Cada precio debe de ser convertido en una cadena con el estandar ISO para €: 458 -> 'EUR 45'.\n",
        "    \"\"\"\n",
        "    lista_iso = []\n",
        "    for element in prices:\n",
        "        lista_iso.append('EUR ' + str(element))\n",
        "    return lista_iso\n",
        "print(to_euro_string([34, 54, 0.55]))"
      ]
    },
    {
      "cell_type": "markdown",
      "id": "18fd6a53-e63a-4dcc-a771-d06946a9f4cf",
      "metadata": {
        "id": "18fd6a53-e63a-4dcc-a771-d06946a9f4cf"
      },
      "source": [
        "## Map\n",
        "\n",
        "Serías capaz de crear una sola función que represente lo común que hay entre esas dos? Acabas de descubrir la función `map`, que se usa muchísimo tanto en Web como en Big Data.\n",
        "\n",
        "El uso de `map` seguido de `reduce` hizo millonarios a dos frikis, llamados Sergei Brin y Larry Page. Esa combinación, se llama mapReduce.\n",
        "\n",
        "Implementa tu propia función `map`."
      ]
    },
    {
      "cell_type": "code",
      "execution_count": null,
      "id": "d18bd1e5-635c-4f34-ac34-dafcd7fb43d9",
      "metadata": {
        "id": "d18bd1e5-635c-4f34-ac34-dafcd7fb43d9"
      },
      "outputs": [],
      "source": [
        "def map(seq,transformer):\n",
        "    new_seq = []\n",
        "    for element in seq:\n",
        "        new_seq.append(transformer(element))\n",
        "    return new_seq\n"
      ]
    },
    {
      "cell_type": "code",
      "execution_count": null,
      "id": "22593aa8-d79c-467f-8a93-3224a4316717",
      "metadata": {
        "id": "22593aa8-d79c-467f-8a93-3224a4316717",
        "outputId": "eb613a8b-7717-4680-aed1-3ed95bc3b99f"
      },
      "outputs": [
        {
          "data": {
            "text/plain": [
              "[2, 3, 4, 5]"
            ]
          },
          "execution_count": 24,
          "metadata": {},
          "output_type": "execute_result"
        }
      ],
      "source": [
        "map([1,2,3,4], lambda x: x + 1)"
      ]
    },
    {
      "cell_type": "code",
      "execution_count": null,
      "id": "dcbf0a90-796c-4563-92bb-fc01df173578",
      "metadata": {
        "id": "dcbf0a90-796c-4563-92bb-fc01df173578",
        "outputId": "c00bac82-779e-411e-afa5-a09b7197705e"
      },
      "outputs": [
        {
          "data": {
            "text/plain": [
              "['2', '3', '4', '5']"
            ]
          },
          "execution_count": 26,
          "metadata": {},
          "output_type": "execute_result"
        }
      ],
      "source": [
        "map([2,3,4,5], lambda x : str(x))"
      ]
    },
    {
      "cell_type": "markdown",
      "id": "a4cf8831-5609-49f3-b2fd-b5691060985c",
      "metadata": {
        "id": "a4cf8831-5609-49f3-b2fd-b5691060985c"
      },
      "source": [
        "## Qué pasa si sólo queremos transformar aquellos elementos que cumplan una condición?\n",
        "\n",
        "Pues usamos un predicado (función que devuelve un booleano) dentro del `transformer`.\n",
        "\n",
        "Por ejemplo, si queremos duplicar aquellos números que sean pares:"
      ]
    },
    {
      "cell_type": "code",
      "execution_count": null,
      "id": "1641de68-1440-4b1e-be67-d10a1a3b352e",
      "metadata": {
        "id": "1641de68-1440-4b1e-be67-d10a1a3b352e"
      },
      "outputs": [],
      "source": [
        "def is_even(n):\n",
        "    return (n % 2) == 0"
      ]
    },
    {
      "cell_type": "code",
      "execution_count": null,
      "id": "1e4782e3-b9c0-431d-bb5e-f877a18f8944",
      "metadata": {
        "id": "1e4782e3-b9c0-431d-bb5e-f877a18f8944"
      },
      "outputs": [],
      "source": [
        "def dupl_if_even(n):\n",
        "    if is_even(n) :\n",
        "        return n * 2\n",
        "    else:\n",
        "        return n"
      ]
    },
    {
      "cell_type": "code",
      "execution_count": null,
      "id": "b457b64a-a1d0-4765-b847-b2e833d7b5e0",
      "metadata": {
        "id": "b457b64a-a1d0-4765-b847-b2e833d7b5e0"
      },
      "outputs": [],
      "source": []
    },
    {
      "cell_type": "code",
      "execution_count": null,
      "id": "65b6309f-acb9-4f54-be86-6cf1c3d87b04",
      "metadata": {
        "id": "65b6309f-acb9-4f54-be86-6cf1c3d87b04",
        "outputId": "88624a77-c166-4631-d724-1455d299516d"
      },
      "outputs": [
        {
          "data": {
            "text/plain": [
              "[1, 4, 3, 8, 5, 12, 7, 16]"
            ]
          },
          "execution_count": 34,
          "metadata": {},
          "output_type": "execute_result"
        }
      ],
      "source": [
        "map([1,2,3,4,5,6,7,8], dupl_if_even)"
      ]
    },
    {
      "cell_type": "markdown",
      "id": "35deb5de-d00f-4e03-aa55-485c9dcfd4fc",
      "metadata": {
        "id": "35deb5de-d00f-4e03-aa55-485c9dcfd4fc"
      },
      "source": [
        "## Ejercicios"
      ]
    },
    {
      "cell_type": "markdown",
      "id": "e8154a29-65bf-4ac1-9410-fc64ac25e677",
      "metadata": {
        "id": "e8154a29-65bf-4ac1-9410-fc64ac25e677"
      },
      "source": [
        "Usando `map`, define la función stringify, que recibe una lista de cosas, y devuelve una lista de esas cosas convertidas en cadenas. Por ejemplo:\n",
        "\n",
        "```[1, 4, True, None] ---> ['1', '4', 'True', 'None']```\n",
        "\n",
        "Rellena lo que falta:\n",
        "```\n",
        "def stringify(items):\n",
        "    return map(items, lambda x: ????)\n",
        "```\n",
        "\n",
        "Recuerda, `map` es una forma de *divide y vencerás*. Ya no te tienes que preocupar de cómo procesar toda la lista, sólo de **cómo transformar un elemento en una cadena**. \n",
        "\n",
        "-------"
      ]
    },
    {
      "cell_type": "markdown",
      "id": "11ade6dd-4dbd-4aa0-89fd-7f4787c3f1fc",
      "metadata": {
        "id": "11ade6dd-4dbd-4aa0-89fd-7f4787c3f1fc"
      },
      "source": [
        "Usando `map`, crea una función `ucase` que recibe una lista de cadenas y devuelve una lista de cadenas, todas en mayúsculas\n",
        "\n",
        "```\n",
        "def ucase(items):\n",
        "    ?????\n",
        "```\n",
        "---------"
      ]
    },
    {
      "cell_type": "markdown",
      "id": "c6d1c362-4538-4ceb-9db2-9a43d5e8090d",
      "metadata": {
        "id": "c6d1c362-4538-4ceb-9db2-9a43d5e8090d"
      },
      "source": [
        "Usando `map`, crea la función `to_positive` que recibe una cadena de números positivo sy negativos, y devuelve una lista con los valores absolutos de dichos números.\n",
        "\n",
        "```\n",
        "[1, 0, -3, -5, 7] ----------> [1,0, 3, 5, 7]\n",
        "```\n",
        "----------"
      ]
    },
    {
      "cell_type": "markdown",
      "id": "fd6b9557-302d-4728-8a97-4b7bdbca1c7c",
      "metadata": {
        "id": "fd6b9557-302d-4728-8a97-4b7bdbca1c7c"
      },
      "source": [
        "Usando `map` crea la función `dollar_only`. Recibe una lista de valores en diferentes divisas (usando el estandar ISO), tales como:\n",
        "\n",
        "* 'CHF 12' Doce francos suizos\n",
        "* 'USD 22' Veintidós dólares\n",
        "* 'EUR 60' 60 euros\n",
        "\n",
        "y devuelve una lista, de igual longitud, donde sólo aparezcan los valores que estaban en dólares. Los demás se sustituyen por la cadena vacía:\n",
        "\n",
        "```\n",
        "['CHF 23', 'EUR 87', 'USD 2', 'USD 21', 'BTC 3'] ---> ['', '', 'USD 2', 'USD 21', '']\n",
        "```\n",
        "\n",
        "Piensa en qué [transformer](https://news.tfw2005.com/wp-content/uploads/sites/10/2019/10/ThreeZero-DLX-Optimus-Prime-037.jpg) tienes que usar.\n",
        "\n",
        "--------"
      ]
    },
    {
      "cell_type": "markdown",
      "id": "2ef511b9-25bb-45e0-b683-a75b96bd048a",
      "metadata": {
        "id": "2ef511b9-25bb-45e0-b683-a75b96bd048a"
      },
      "source": [
        "Usando `map`, crea la función `lens`. `lens` recibe *una lista de listas* y devuelve una lista con las longitudes de dichas listas.\n",
        "\n",
        "**CALMA** Lo único que tiene que preocuparte es saber cómo obtener la longitud de una lista (y sí puedes usar `len` de python ahora ;-)) `map` se encarga de todo lo demás. \n",
        "\n",
        "```\n",
        "def lens(list_of_lists):\n",
        "    return map(list_of_lists, ????)\n",
        "```\n",
        "\n",
        "![](https://media.tenor.com/AIihEjpE3rQAAAAC/coisa-de-nerd-nerd-stuff.gif)\n",
        "\n",
        "--------------"
      ]
    },
    {
      "cell_type": "code",
      "execution_count": null,
      "id": "041cc231-9fc5-4993-a5f6-1ddcf1c2d3fb",
      "metadata": {
        "id": "041cc231-9fc5-4993-a5f6-1ddcf1c2d3fb"
      },
      "outputs": [],
      "source": []
    }
  ],
  "metadata": {
    "kernelspec": {
      "display_name": "Python 3 (ipykernel)",
      "language": "python",
      "name": "python3"
    },
    "language_info": {
      "codemirror_mode": {
        "name": "ipython",
        "version": 3
      },
      "file_extension": ".py",
      "mimetype": "text/x-python",
      "name": "python",
      "nbconvert_exporter": "python",
      "pygments_lexer": "ipython3",
      "version": "3.10.7"
    },
    "colab": {
      "provenance": [],
      "include_colab_link": true
    }
  },
  "nbformat": 4,
  "nbformat_minor": 5
}